{
 "cells": [
  {
   "cell_type": "code",
   "execution_count": 505,
   "id": "aee09d4c-9534-45cb-a76f-8096472a319d",
   "metadata": {},
   "outputs": [
    {
     "data": {
      "text/plain": [
       "True"
      ]
     },
     "execution_count": 505,
     "metadata": {},
     "output_type": "execute_result"
    }
   ],
   "source": [
    "import json\n",
    "import random\n",
    "import torch\n",
    "from pathlib import Path\n",
    "import torch.nn as nn\n",
    "import json\n",
    "\n",
    "torch.cuda.is_available()"
   ]
  },
  {
   "cell_type": "code",
   "execution_count": 516,
   "id": "ca4a775b-6572-4348-ba09-6845dc008ed7",
   "metadata": {},
   "outputs": [
    {
     "name": "stdout",
     "output_type": "stream",
     "text": [
      "Pair data loaded: 185 train / 47 test\n"
     ]
    }
   ],
   "source": [
    "def load_jsonl(filepath):\n",
    "    with open(filepath, \"r\") as f:\n",
    "        return [json.loads(line) for line in f]\n",
    "\n",
    "# Load pair data\n",
    "full_data = load_jsonl(\"../data_dialogues/pairs.jsonl\")\n",
    "random.seed(42)\n",
    "random.shuffle(full_data)\n",
    "\n",
    "# Split train & test\n",
    "split_ratio = 0.80\n",
    "split_idx = int(len(full_data) * split_ratio)\n",
    "train_data = full_data[:split_idx]\n",
    "test_data = full_data[split_idx:]\n",
    "\n",
    "# Save split\n",
    "with open(\"../data_dialogues/readbacks_train.json\", \"w\") as f:\n",
    "    json.dump(train_data, f, indent=2)\n",
    "with open(\"../data_dialogues/readbacks_test.json\", \"w\") as f:\n",
    "    json.dump(test_data, f, indent=2)\n",
    "\n",
    "print(f\"Pair data loaded: {len(train_data)} train / {len(test_data)} test\")"
   ]
  },
  {
   "cell_type": "code",
   "execution_count": 517,
   "id": "73da70d6-1568-48d5-943f-9ec9aa9f1a14",
   "metadata": {},
   "outputs": [
    {
     "name": "stdout",
     "output_type": "stream",
     "text": [
      "Label:  0\n",
      "[CLS] csa five seven three [ ins ] runway three one [ ins ] clear to land wind one nine zero degrees three knots expedite vacating via golf [SEP] [ rbk ] runway three one [ rbk ] clear to land expediting vacating via golf csa [SEP]\n",
      "tensor([  101, 27804,  2274,  2698,  2093,  1031, 16021,  1033,  9271,  2093,\n",
      "         2028,  1031, 16021,  1033,  3154,  2000,  2455,  3612,  2028,  3157,\n",
      "         5717,  5445,  2093,  9439,  4654,  5669,  4221, 12436, 18252,  3081,\n",
      "         5439,   102,  1031, 21144,  2243,  1033,  9271,  2093,  2028,  1031,\n",
      "        21144,  2243,  1033,  3154,  2000,  2455,  4654,  5669, 15402, 12436,\n",
      "        18252,  3081,  5439, 27804,   102,     0,     0,     0,     0,     0,\n",
      "            0,     0,     0,     0,     0,     0,     0,     0,     0,     0,\n",
      "            0,     0,     0,     0,     0,     0,     0,     0,     0,     0,\n",
      "            0,     0,     0,     0,     0,     0,     0,     0,     0,     0,\n",
      "            0,     0,     0,     0,     0,     0,     0,     0,     0,     0,\n",
      "            0,     0,     0,     0,     0,     0,     0,     0,     0,     0,\n",
      "            0,     0,     0,     0,     0,     0,     0,     0,     0,     0,\n",
      "            0,     0,     0,     0,     0,     0,     0,     0])\n",
      "tensor([1, 1, 1, 1, 1, 1, 1, 1, 1, 1, 1, 1, 1, 1, 1, 1, 1, 1, 1, 1, 1, 1, 1, 1,\n",
      "        1, 1, 1, 1, 1, 1, 1, 1, 1, 1, 1, 1, 1, 1, 1, 1, 1, 1, 1, 1, 1, 1, 1, 1,\n",
      "        1, 1, 1, 1, 1, 1, 1, 0, 0, 0, 0, 0, 0, 0, 0, 0, 0, 0, 0, 0, 0, 0, 0, 0,\n",
      "        0, 0, 0, 0, 0, 0, 0, 0, 0, 0, 0, 0, 0, 0, 0, 0, 0, 0, 0, 0, 0, 0, 0, 0,\n",
      "        0, 0, 0, 0, 0, 0, 0, 0, 0, 0, 0, 0, 0, 0, 0, 0, 0, 0, 0, 0, 0, 0, 0, 0,\n",
      "        0, 0, 0, 0, 0, 0, 0, 0])\n",
      "0\n"
     ]
    }
   ],
   "source": [
    "from transformers import AutoTokenizer\n",
    "from torch.utils.data import Dataset, DataLoader\n",
    "\n",
    "MODEL_NAME = \"microsoft/MiniLM-L12-H384-uncased\"\n",
    "tokenizer = AutoTokenizer.from_pretrained(MODEL_NAME)\n",
    "\n",
    "# Dataloader\n",
    "class PairDataset(Dataset):\n",
    "    def __init__(self, data, tokenizer, max_len=128):\n",
    "        self.data = data\n",
    "        self.tokenizer = tokenizer\n",
    "        self.max_len = max_len\n",
    "\n",
    "    def __len__(self):\n",
    "        return len(self.data)\n",
    "\n",
    "    def __getitem__(self, idx):\n",
    "        example = self.data[idx]\n",
    "        encode = self.tokenizer(\n",
    "            example[\"instruction\"],\n",
    "            example[\"readback\"],\n",
    "            padding=\"max_length\",\n",
    "            truncation=True,\n",
    "            max_length=self.max_len,\n",
    "            return_tensors=\"pt\"\n",
    "        )\n",
    "        item = {\n",
    "            \"input_ids\": encode[\"input_ids\"].squeeze(0),\n",
    "            \"attention_mask\": encode[\"attention_mask\"].squeeze(0),\n",
    "            \"label\": torch.tensor(example[\"label_id\"], dtype=torch.long)\n",
    "        }\n",
    "        return item\n",
    "\n",
    "def make_loader(split, batch_size=32, shuffle=True):\n",
    "    ds = PairDataset(split, tokenizer)\n",
    "    return DataLoader(ds, batch_size=batch_size, shuffle=shuffle)\n",
    "\n",
    "train_loader = make_loader(train_data, batch_size=32, shuffle=True)\n",
    "test_loader = make_loader(test_data , batch_size=32, shuffle=False)\n",
    "\n",
    "# Print out a sample encoding\n",
    "batch = next(iter(train_loader))\n",
    "sample_i = 5\n",
    "\n",
    "ids = batch[\"input_ids\"][sample_i]\n",
    "mask = batch[\"attention_mask\"][sample_i]\n",
    "label_id = batch[\"label\"][sample_i].item()\n",
    "\n",
    "print(\"Label: \", label_id)\n",
    "print(tokenizer.decode(ids[mask.bool()].tolist()))\n",
    "print(ids)\n",
    "print(mask)\n",
    "print(label_id)"
   ]
  },
  {
   "cell_type": "code",
   "execution_count": 518,
   "id": "523069d4-2ed7-4578-9a2f-91213f231f0c",
   "metadata": {},
   "outputs": [
    {
     "name": "stdout",
     "output_type": "stream",
     "text": [
      "Total parameters: 33,361,540\n"
     ]
    }
   ],
   "source": [
    "from transformers import AutoModel, AutoConfig\n",
    "\n",
    "# (matches, partial, incorrect, no_relation)\n",
    "NUM_RELATIONS = 4\n",
    "\n",
    "class DialogueRelationModel(nn.Module):\n",
    "    def __init__(self, model_name, tokenizer, num_labels):\n",
    "        super().__init__()\n",
    "        self.config  = AutoConfig.from_pretrained(model_name)\n",
    "        self.encoder = AutoModel.from_pretrained(model_name, config=self.config)\n",
    "        # Add special tokens\n",
    "        self.encoder.resize_token_embeddings(len(tokenizer))\n",
    "        self.dropout = nn.Dropout(self.config.hidden_dropout_prob)\n",
    "        self.classifier = nn.Linear(self.config.hidden_size, num_labels)\n",
    "\n",
    "    def forward(self, input_ids, attention_mask):\n",
    "        outputs = self.encoder(input_ids=input_ids, attention_mask=attention_mask)\n",
    "        cls_rep = outputs.last_hidden_state[:, 0, :]\n",
    "        x = self.dropout(cls_rep)\n",
    "        logits = self.classifier(x)\n",
    "        return logits\n",
    "\n",
    "model = DialogueRelationModel(MODEL_NAME, tokenizer, NUM_RELATIONS).to(device)\n",
    "\n",
    "total_params = sum(p.numel() for p in model.parameters())\n",
    "trainable_params = sum(p.numel() for p in model.parameters() if p.requires_grad)\n",
    "\n",
    "print(f\"Total parameters: {total_params:,}\")"
   ]
  },
  {
   "cell_type": "code",
   "execution_count": 519,
   "id": "a37c8dc0-7072-4c15-aaed-9abb20057c01",
   "metadata": {},
   "outputs": [
    {
     "data": {
      "application/vnd.jupyter.widget-view+json": {
       "model_id": "1e83dd2dcb124984a6d9abcdb11a7358",
       "version_major": 2,
       "version_minor": 0
      },
      "text/plain": [
       "Epoch 1/25:   0%|          | 0/6 [00:00<?, ?it/s]"
      ]
     },
     "metadata": {},
     "output_type": "display_data"
    },
    {
     "name": "stdout",
     "output_type": "stream",
     "text": [
      "Epoch 1 — Avg Training Loss: 1.1973\n"
     ]
    },
    {
     "data": {
      "application/vnd.jupyter.widget-view+json": {
       "model_id": "6bf6d0735a0a4f1997a3ee4752554059",
       "version_major": 2,
       "version_minor": 0
      },
      "text/plain": [
       "Epoch 2/25:   0%|          | 0/6 [00:00<?, ?it/s]"
      ]
     },
     "metadata": {},
     "output_type": "display_data"
    },
    {
     "name": "stdout",
     "output_type": "stream",
     "text": [
      "Epoch 2 — Avg Training Loss: 1.0672\n"
     ]
    },
    {
     "data": {
      "application/vnd.jupyter.widget-view+json": {
       "model_id": "246c417acec14973b87c54a25aeb90d5",
       "version_major": 2,
       "version_minor": 0
      },
      "text/plain": [
       "Epoch 3/25:   0%|          | 0/6 [00:00<?, ?it/s]"
      ]
     },
     "metadata": {},
     "output_type": "display_data"
    },
    {
     "name": "stdout",
     "output_type": "stream",
     "text": [
      "Epoch 3 — Avg Training Loss: 1.0447\n"
     ]
    },
    {
     "data": {
      "application/vnd.jupyter.widget-view+json": {
       "model_id": "81dd8100b83942b79392e96f72622c10",
       "version_major": 2,
       "version_minor": 0
      },
      "text/plain": [
       "Epoch 4/25:   0%|          | 0/6 [00:00<?, ?it/s]"
      ]
     },
     "metadata": {},
     "output_type": "display_data"
    },
    {
     "name": "stdout",
     "output_type": "stream",
     "text": [
      "Epoch 4 — Avg Training Loss: 1.0102\n"
     ]
    },
    {
     "data": {
      "application/vnd.jupyter.widget-view+json": {
       "model_id": "0bb78bbc84ed4e1a9caf0fd1cccc9865",
       "version_major": 2,
       "version_minor": 0
      },
      "text/plain": [
       "Epoch 5/25:   0%|          | 0/6 [00:00<?, ?it/s]"
      ]
     },
     "metadata": {},
     "output_type": "display_data"
    },
    {
     "name": "stdout",
     "output_type": "stream",
     "text": [
      "Epoch 5 — Avg Training Loss: 0.8610\n"
     ]
    },
    {
     "data": {
      "application/vnd.jupyter.widget-view+json": {
       "model_id": "0bdeb7d3ad864ca688c2fb322835cd3e",
       "version_major": 2,
       "version_minor": 0
      },
      "text/plain": [
       "Epoch 6/25:   0%|          | 0/6 [00:00<?, ?it/s]"
      ]
     },
     "metadata": {},
     "output_type": "display_data"
    },
    {
     "name": "stdout",
     "output_type": "stream",
     "text": [
      "Epoch 6 — Avg Training Loss: 0.6899\n"
     ]
    },
    {
     "data": {
      "application/vnd.jupyter.widget-view+json": {
       "model_id": "c0ac6e6431c24d2e88cc040cb8bd7ac6",
       "version_major": 2,
       "version_minor": 0
      },
      "text/plain": [
       "Epoch 7/25:   0%|          | 0/6 [00:00<?, ?it/s]"
      ]
     },
     "metadata": {},
     "output_type": "display_data"
    },
    {
     "name": "stdout",
     "output_type": "stream",
     "text": [
      "Epoch 7 — Avg Training Loss: 0.6502\n"
     ]
    },
    {
     "data": {
      "application/vnd.jupyter.widget-view+json": {
       "model_id": "4d2e60c0d2a2445eaae0e0fd764868ac",
       "version_major": 2,
       "version_minor": 0
      },
      "text/plain": [
       "Epoch 8/25:   0%|          | 0/6 [00:00<?, ?it/s]"
      ]
     },
     "metadata": {},
     "output_type": "display_data"
    },
    {
     "name": "stdout",
     "output_type": "stream",
     "text": [
      "Epoch 8 — Avg Training Loss: 0.6483\n"
     ]
    },
    {
     "data": {
      "application/vnd.jupyter.widget-view+json": {
       "model_id": "7b78f032b2ec4886b53381a8f2a7332c",
       "version_major": 2,
       "version_minor": 0
      },
      "text/plain": [
       "Epoch 9/25:   0%|          | 0/6 [00:00<?, ?it/s]"
      ]
     },
     "metadata": {},
     "output_type": "display_data"
    },
    {
     "name": "stdout",
     "output_type": "stream",
     "text": [
      "Epoch 9 — Avg Training Loss: 0.6192\n"
     ]
    },
    {
     "data": {
      "application/vnd.jupyter.widget-view+json": {
       "model_id": "ecc9dd603e2040539bafcf58ab4d02f7",
       "version_major": 2,
       "version_minor": 0
      },
      "text/plain": [
       "Epoch 10/25:   0%|          | 0/6 [00:00<?, ?it/s]"
      ]
     },
     "metadata": {},
     "output_type": "display_data"
    },
    {
     "name": "stdout",
     "output_type": "stream",
     "text": [
      "Epoch 10 — Avg Training Loss: 0.4883\n"
     ]
    },
    {
     "data": {
      "application/vnd.jupyter.widget-view+json": {
       "model_id": "db6d24caa7664511be23d285088f37e7",
       "version_major": 2,
       "version_minor": 0
      },
      "text/plain": [
       "Epoch 11/25:   0%|          | 0/6 [00:00<?, ?it/s]"
      ]
     },
     "metadata": {},
     "output_type": "display_data"
    },
    {
     "name": "stdout",
     "output_type": "stream",
     "text": [
      "Epoch 11 — Avg Training Loss: 0.4408\n"
     ]
    },
    {
     "data": {
      "application/vnd.jupyter.widget-view+json": {
       "model_id": "0316208481554c0bad4fa32a68b4928a",
       "version_major": 2,
       "version_minor": 0
      },
      "text/plain": [
       "Epoch 12/25:   0%|          | 0/6 [00:00<?, ?it/s]"
      ]
     },
     "metadata": {},
     "output_type": "display_data"
    },
    {
     "name": "stdout",
     "output_type": "stream",
     "text": [
      "Epoch 12 — Avg Training Loss: 0.3577\n"
     ]
    },
    {
     "data": {
      "application/vnd.jupyter.widget-view+json": {
       "model_id": "68c104fd3e4446c1b25e179694cdd007",
       "version_major": 2,
       "version_minor": 0
      },
      "text/plain": [
       "Epoch 13/25:   0%|          | 0/6 [00:00<?, ?it/s]"
      ]
     },
     "metadata": {},
     "output_type": "display_data"
    },
    {
     "name": "stdout",
     "output_type": "stream",
     "text": [
      "Epoch 13 — Avg Training Loss: 0.2653\n"
     ]
    },
    {
     "data": {
      "application/vnd.jupyter.widget-view+json": {
       "model_id": "106026c099a04e30975c30ad32173768",
       "version_major": 2,
       "version_minor": 0
      },
      "text/plain": [
       "Epoch 14/25:   0%|          | 0/6 [00:00<?, ?it/s]"
      ]
     },
     "metadata": {},
     "output_type": "display_data"
    },
    {
     "name": "stdout",
     "output_type": "stream",
     "text": [
      "Epoch 14 — Avg Training Loss: 0.2841\n"
     ]
    },
    {
     "data": {
      "application/vnd.jupyter.widget-view+json": {
       "model_id": "b24ae738af254493ac31c49b650dfbd2",
       "version_major": 2,
       "version_minor": 0
      },
      "text/plain": [
       "Epoch 15/25:   0%|          | 0/6 [00:00<?, ?it/s]"
      ]
     },
     "metadata": {},
     "output_type": "display_data"
    },
    {
     "name": "stdout",
     "output_type": "stream",
     "text": [
      "Epoch 15 — Avg Training Loss: 0.2219\n"
     ]
    },
    {
     "data": {
      "application/vnd.jupyter.widget-view+json": {
       "model_id": "577b787d4afa48899f126f3e3943cdd8",
       "version_major": 2,
       "version_minor": 0
      },
      "text/plain": [
       "Epoch 16/25:   0%|          | 0/6 [00:00<?, ?it/s]"
      ]
     },
     "metadata": {},
     "output_type": "display_data"
    },
    {
     "name": "stdout",
     "output_type": "stream",
     "text": [
      "Epoch 16 — Avg Training Loss: 0.2138\n"
     ]
    },
    {
     "data": {
      "application/vnd.jupyter.widget-view+json": {
       "model_id": "5443df0971a44fc18fd6d45708bbbaae",
       "version_major": 2,
       "version_minor": 0
      },
      "text/plain": [
       "Epoch 17/25:   0%|          | 0/6 [00:00<?, ?it/s]"
      ]
     },
     "metadata": {},
     "output_type": "display_data"
    },
    {
     "name": "stdout",
     "output_type": "stream",
     "text": [
      "Epoch 17 — Avg Training Loss: 0.2550\n"
     ]
    },
    {
     "data": {
      "application/vnd.jupyter.widget-view+json": {
       "model_id": "4cfcd1533d3d44c09bba2d7d52a09db5",
       "version_major": 2,
       "version_minor": 0
      },
      "text/plain": [
       "Epoch 18/25:   0%|          | 0/6 [00:00<?, ?it/s]"
      ]
     },
     "metadata": {},
     "output_type": "display_data"
    },
    {
     "name": "stdout",
     "output_type": "stream",
     "text": [
      "Epoch 18 — Avg Training Loss: 0.1712\n"
     ]
    },
    {
     "data": {
      "application/vnd.jupyter.widget-view+json": {
       "model_id": "f28edf9198c64f07b3022835de80eb8b",
       "version_major": 2,
       "version_minor": 0
      },
      "text/plain": [
       "Epoch 19/25:   0%|          | 0/6 [00:00<?, ?it/s]"
      ]
     },
     "metadata": {},
     "output_type": "display_data"
    },
    {
     "name": "stdout",
     "output_type": "stream",
     "text": [
      "Epoch 19 — Avg Training Loss: 0.1398\n"
     ]
    },
    {
     "data": {
      "application/vnd.jupyter.widget-view+json": {
       "model_id": "2fba45c192914484908ece4677b0a42d",
       "version_major": 2,
       "version_minor": 0
      },
      "text/plain": [
       "Epoch 20/25:   0%|          | 0/6 [00:00<?, ?it/s]"
      ]
     },
     "metadata": {},
     "output_type": "display_data"
    },
    {
     "name": "stdout",
     "output_type": "stream",
     "text": [
      "Epoch 20 — Avg Training Loss: 0.1601\n"
     ]
    },
    {
     "data": {
      "application/vnd.jupyter.widget-view+json": {
       "model_id": "c2a362bd56604a9fb29f093df6d80a99",
       "version_major": 2,
       "version_minor": 0
      },
      "text/plain": [
       "Epoch 21/25:   0%|          | 0/6 [00:00<?, ?it/s]"
      ]
     },
     "metadata": {},
     "output_type": "display_data"
    },
    {
     "name": "stdout",
     "output_type": "stream",
     "text": [
      "Epoch 21 — Avg Training Loss: 0.1157\n"
     ]
    },
    {
     "data": {
      "application/vnd.jupyter.widget-view+json": {
       "model_id": "1c135324c3ac40baa09ed47cbd236f4a",
       "version_major": 2,
       "version_minor": 0
      },
      "text/plain": [
       "Epoch 22/25:   0%|          | 0/6 [00:00<?, ?it/s]"
      ]
     },
     "metadata": {},
     "output_type": "display_data"
    },
    {
     "name": "stdout",
     "output_type": "stream",
     "text": [
      "Epoch 22 — Avg Training Loss: 0.0960\n"
     ]
    },
    {
     "data": {
      "application/vnd.jupyter.widget-view+json": {
       "model_id": "b8ce0f49cc0e4a3abfc4f6ad971503cf",
       "version_major": 2,
       "version_minor": 0
      },
      "text/plain": [
       "Epoch 23/25:   0%|          | 0/6 [00:00<?, ?it/s]"
      ]
     },
     "metadata": {},
     "output_type": "display_data"
    },
    {
     "name": "stdout",
     "output_type": "stream",
     "text": [
      "Epoch 23 — Avg Training Loss: 0.0809\n"
     ]
    },
    {
     "data": {
      "application/vnd.jupyter.widget-view+json": {
       "model_id": "d04f3bd5de244c68839c171da7aedc25",
       "version_major": 2,
       "version_minor": 0
      },
      "text/plain": [
       "Epoch 24/25:   0%|          | 0/6 [00:00<?, ?it/s]"
      ]
     },
     "metadata": {},
     "output_type": "display_data"
    },
    {
     "name": "stdout",
     "output_type": "stream",
     "text": [
      "Epoch 24 — Avg Training Loss: 0.0946\n"
     ]
    },
    {
     "data": {
      "application/vnd.jupyter.widget-view+json": {
       "model_id": "5fe93c7a98944fd7b1e95696e696ccad",
       "version_major": 2,
       "version_minor": 0
      },
      "text/plain": [
       "Epoch 25/25:   0%|          | 0/6 [00:00<?, ?it/s]"
      ]
     },
     "metadata": {},
     "output_type": "display_data"
    },
    {
     "name": "stdout",
     "output_type": "stream",
     "text": [
      "Epoch 25 — Avg Training Loss: 0.1001\n",
      "                     precision    recall  f1-score   support\n",
      "\n",
      "matches_instruction     0.5556    0.4167    0.4762        12\n",
      "   partial_readback     0.1667    1.0000    0.2857         1\n",
      " incorrect_readback     0.2727    0.5000    0.3529         6\n",
      "        no_relation     0.8571    0.6429    0.7347        28\n",
      "\n",
      "           accuracy                         0.5745        47\n",
      "          macro avg     0.4630    0.6399    0.4624        47\n",
      "       weighted avg     0.6908    0.5745    0.6104        47\n",
      "\n"
     ]
    }
   ],
   "source": [
    "from torch.optim import AdamW\n",
    "from tqdm.auto import tqdm\n",
    "from sklearn.metrics import classification_report\n",
    "\n",
    "EPOCHS = 25\n",
    "LEARNING_RATE = 0.00005\n",
    "optimizer = AdamW(model.parameters(), lr=LEARNING_RATE)\n",
    "loss_fn = nn.CrossEntropyLoss()\n",
    "\n",
    "losses = []\n",
    "# Training\n",
    "for epoch in range(1, EPOCHS + 1):\n",
    "    model.train()\n",
    "    total_loss = 0.0\n",
    "    loop = tqdm(train_loader, desc=f\"Epoch {epoch}/{EPOCHS}\", leave=False)\n",
    "    for batch in loop:\n",
    "        input_ids = batch[\"input_ids\"].to(device)\n",
    "        attention_mask = batch[\"attention_mask\"].to(device)\n",
    "        labels = batch[\"label\"].to(device)\n",
    "\n",
    "        optimizer.zero_grad()\n",
    "        logits = model(input_ids, attention_mask)\n",
    "        loss = loss_fn(logits, labels)\n",
    "        loss.backward()\n",
    "        optimizer.step()\n",
    "\n",
    "        total_loss += loss.item()\n",
    "        loop.set_postfix(loss=total_loss / (loop.n + 1))\n",
    "\n",
    "    avg_train_loss = total_loss / len(train_loader)\n",
    "    print(f\"Epoch {epoch} — Avg Training Loss: {avg_train_loss:.4f}\")\n",
    "    losses.append(avg_train_loss)\n",
    "\n",
    "    # Eval every epoch\n",
    "    model.eval()\n",
    "    preds = []\n",
    "    true_labels = []\n",
    "    with torch.no_grad():\n",
    "        for batch in test_loader:\n",
    "            input_ids= batch[\"input_ids\"].to(device)\n",
    "            attention_mask = batch[\"attention_mask\"].to(device)\n",
    "            labels = batch[\"label\"].to(device)\n",
    "            logits = model(input_ids, attention_mask)\n",
    "            pred_ids = logits.argmax(dim=-1)\n",
    "            preds.extend(pred_ids.cpu().tolist())\n",
    "            true_labels.extend(labels.cpu().tolist())\n",
    "\n",
    "    labels = list(range(NUM_RELATIONS))\n",
    "    target_names = [\n",
    "        \"matches_instruction\",\n",
    "        \"partial_readback\",\n",
    "        \"incorrect_readback\",\n",
    "        \"no_relation\"\n",
    "    ]\n",
    "    if epoch == EPOCHS:\n",
    "        print(classification_report(\n",
    "            true_labels,\n",
    "            preds,\n",
    "            labels = labels,\n",
    "            target_names = target_names,\n",
    "            digits = 4,\n",
    "            zero_division=0\n",
    "        ))"
   ]
  },
  {
   "cell_type": "code",
   "execution_count": 520,
   "id": "9f8cb4b4-f2db-480b-a088-47e8634bcac5",
   "metadata": {},
   "outputs": [
    {
     "data": {
      "image/png": "[encoded data removed]",
      "text/plain": [
       "<Figure size 640x480 with 1 Axes>"
      ]
     },
     "metadata": {},
     "output_type": "display_data"
    }
   ],
   "source": [
    "import matplotlib.pyplot as plt\n",
    "\n",
    "plt.figure()\n",
    "plt.plot(range(1, len(losses) + 1), losses)\n",
    "plt.xlabel(\"Epoch\")\n",
    "plt.ylabel(\"Training Loss\")\n",
    "plt.title(\"MiniLM Training Loss per Epoch\")\n",
    "plt.show()"
   ]
  },
  {
   "cell_type": "code",
   "execution_count": 521,
   "id": "fe39214b-885e-4905-b8f7-9216337542c9",
   "metadata": {},
   "outputs": [],
   "source": [
    "id2label = {\n",
    "    0: \"matches_instruction\",\n",
    "    1: \"partial_readback\",\n",
    "    2: \"incorrect_readback\",\n",
    "    3: \"no_relation\"\n",
    "}\n",
    "\n",
    "# Print out a prediction\n",
    "def predict_with_confidence(instruction, readback, model, tokenizer, device):\n",
    "    model.eval()\n",
    "    inst = f\"[INS] {instruction} [INS]\"\n",
    "    rb = f\"[RBK] {readback} [RBK]\"\n",
    "\n",
    "    enc = tokenizer(\n",
    "        inst, rb,\n",
    "        padding=\"max_length\",\n",
    "        truncation=True,\n",
    "        max_length=128,\n",
    "        return_tensors=\"pt\"\n",
    "    )\n",
    "    input_ids = enc[\"input_ids\"].to(device)\n",
    "    attention_mask = enc[\"attention_mask\"].to(device)\n",
    "    with torch.no_grad():\n",
    "        logits = model(input_ids, attention_mask)\n",
    "        probs  = F.softmax(logits, dim=-1).cpu().squeeze(0)\n",
    "\n",
    "    top_id    = probs.argmax().item()\n",
    "    top_label = id2label[top_id]\n",
    "    top_conf  = probs[top_id].item()\n",
    "\n",
    "    print(f\"Instruction: “{instruction}”\")\n",
    "    print(f\"Readback   : “{readback}”\\n\")\n",
    "    print(f\"Predicted Relation: {top_label}  ({top_conf*100:.1f}% confidence)\\n\")\n",
    "    for i in range(len(probs)):\n",
    "        print(f\"{id2label[i]:20s}: {probs[i].item()*100:5.1f}%\")\n",
    "\n",
    "    return top_label, probs"
   ]
  },
  {
   "cell_type": "code",
   "execution_count": 522,
   "id": "239b6b01-fc3f-4ff6-9ac6-3ddd82467b85",
   "metadata": {},
   "outputs": [
    {
     "name": "stdout",
     "output_type": "stream",
     "text": [
      "Instruction: “delta five one three descend and maintain [ins] flight level two seven zero [ins]”\n",
      "Readback   : “descending [rbk] flight level two eight zero [rbk] delta five one three”\n",
      "\n",
      "Predicted Relation: partial_readback  (88.5% confidence)\n",
      "\n",
      "matches_instruction :   0.4%\n",
      "partial_readback    :  88.5%\n",
      "incorrect_readback  :   8.0%\n",
      "no_relation         :   3.1%\n"
     ]
    },
    {
     "data": {
      "text/plain": [
       "('partial_readback', tensor([0.0037, 0.8854, 0.0802, 0.0307]))"
      ]
     },
     "execution_count": 522,
     "metadata": {},
     "output_type": "execute_result"
    }
   ],
   "source": [
    "instruction = \"delta five one three descend and maintain [ins] flight level two seven zero [ins]\"\n",
    "readback    = \"descending [rbk] flight level two eight zero [rbk] delta five one three\"\n",
    "\n",
    "predict_with_confidence(instruction, readback, model, tokenizer, device)"
   ]
  },
  {
   "cell_type": "code",
   "execution_count": 523,
   "id": "b97eeed2-08ca-447c-b76b-e1056e21b0d8",
   "metadata": {},
   "outputs": [
    {
     "name": "stdout",
     "output_type": "stream",
     "text": [
      "Instruction: “southwest five two two descend and maintain [ins] flight level two seven zero [ins]”\n",
      "Readback   : “descending [rbk] flight level two seven zero [rbk] southwest five two two”\n",
      "\n",
      "Predicted Relation: partial_readback  (71.8% confidence)\n",
      "\n",
      "matches_instruction :   1.3%\n",
      "partial_readback    :  71.8%\n",
      "incorrect_readback  :   6.3%\n",
      "no_relation         :  20.6%\n"
     ]
    },
    {
     "data": {
      "text/plain": [
       "('partial_readback', tensor([0.0130, 0.7178, 0.0628, 0.2064]))"
      ]
     },
     "execution_count": 523,
     "metadata": {},
     "output_type": "execute_result"
    }
   ],
   "source": [
    "instruction = \"southwest five two two descend and maintain [ins] flight level two seven zero [ins]\"\n",
    "readback    = \"descending [rbk] flight level two seven zero [rbk] southwest five two two\"\n",
    "\n",
    "predict_with_confidence(instruction, readback, model, tokenizer, device)"
   ]
  },
  {
   "cell_type": "code",
   "execution_count": 524,
   "id": "fe554b73-26d0-4019-b404-276be26507c7",
   "metadata": {},
   "outputs": [
    {
     "name": "stdout",
     "output_type": "stream",
     "text": [
      "Instruction: “southwest five two two descend and maintain [ins] flight level two seven zero [ins]”\n",
      "Readback   : “descending [rbk] flight level two seven zero [rbk] delta three three”\n",
      "\n",
      "Predicted Relation: partial_readback  (82.7% confidence)\n",
      "\n",
      "matches_instruction :   0.8%\n",
      "partial_readback    :  82.7%\n",
      "incorrect_readback  :   6.8%\n",
      "no_relation         :   9.7%\n"
     ]
    },
    {
     "data": {
      "text/plain": [
       "('partial_readback', tensor([0.0081, 0.8270, 0.0682, 0.0967]))"
      ]
     },
     "execution_count": 524,
     "metadata": {},
     "output_type": "execute_result"
    }
   ],
   "source": [
    "instruction = \"southwest five two two descend and maintain [ins] flight level two seven zero [ins]\"\n",
    "readback    = \"descending [rbk] flight level two seven zero [rbk] delta three three\"\n",
    "\n",
    "predict_with_confidence(instruction, readback, model, tokenizer, device)"
   ]
  },
  {
   "cell_type": "code",
   "execution_count": 525,
   "id": "68ecf22d-ee34-472d-b62a-27502ac0ed50",
   "metadata": {},
   "outputs": [
    {
     "name": "stdout",
     "output_type": "stream",
     "text": [
      "Saved miniLM model!\n"
     ]
    }
   ],
   "source": [
    "model.eval()\n",
    "torch.save(model.state_dict(), \"../app/models/dialogue_relation/dialogue_relation_state_dict.pt\")\n",
    "tokenizer.save_pretrained(\"../app/models/dialogue_relation/tokenizer/\")\n",
    "\n",
    "print(\"Saved miniLM model!\")"
   ]
  },
  {
   "cell_type": "code",
   "execution_count": null,
   "id": "27c19ea6-d03e-4aab-8e8f-73b4867baf33",
   "metadata": {},
   "outputs": [],
   "source": []
  }
 ],
 "metadata": {
  "kernelspec": {
   "display_name": "Python 3 (ipykernel)",
   "language": "python",
   "name": "python3"
  },
  "language_info": {
   "codemirror_mode": {
    "name": "ipython",
    "version": 3
   },
   "file_extension": ".py",
   "mimetype": "text/x-python",
   "name": "python",
   "nbconvert_exporter": "python",
   "pygments_lexer": "ipython3",
   "version": "3.12.9"
  }
 },
 "nbformat": 4,
 "nbformat_minor": 5
}
