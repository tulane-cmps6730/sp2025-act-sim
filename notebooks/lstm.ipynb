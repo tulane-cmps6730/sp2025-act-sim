{
 "cells": [
  {
   "cell_type": "code",
   "execution_count": 709,
   "id": "b3f68fc2-d0c5-4960-8682-331c9af48aa0",
   "metadata": {},
   "outputs": [
    {
     "name": "stdout",
     "output_type": "stream",
     "text": [
      "12.4\n",
      "True\n"
     ]
    }
   ],
   "source": [
    "import json\n",
    "import torch\n",
    "import random\n",
    "import matplotlib\n",
    "from torch.utils.data import Dataset\n",
    "\n",
    "print(torch.version.cuda)\n",
    "print(torch.cuda.is_available())"
   ]
  },
  {
   "cell_type": "code",
   "execution_count": 748,
   "id": "c1e2dc01-94c1-4caa-a034-a90b6158412e",
   "metadata": {},
   "outputs": [
    {
     "name": "stdout",
     "output_type": "stream",
     "text": [
      "160\n",
      "Total examples after merge: 367\n",
      "Split: 330 train / 37 test.\n"
     ]
    }
   ],
   "source": [
    "import os\n",
    "\n",
    "# Load utterances data\n",
    "with open(\"../data_utterances/utt_model_data.json\", \"r\") as f:\n",
    "    full_data = json.load(f)\n",
    "\n",
    "print(len(full_data))\n",
    "\n",
    "# Load dialogue utterances\n",
    "dialogue_folder = \"../data_dialogues/BIO\"\n",
    "dialogue_utts = []\n",
    "for fname in os.listdir(dialogue_folder):\n",
    "    path = os.path.join(dialogue_folder, fname)\n",
    "    with open(path, \"r\") as f:\n",
    "        dialogue = json.load(f)\n",
    "\n",
    "    for utt in dialogue[\"utterances\"]:\n",
    "        dialogue_utts.append({\n",
    "            \"utterance_id\": utt[\"utt_id\"],\n",
    "            \"tokens\": utt[\"tokens\"],\n",
    "            \"labels\": utt[\"tags\"],\n",
    "        })\n",
    "\n",
    "# Combine\n",
    "full_data.extend(dialogue_utts)\n",
    "print(f\"Total examples after merge: {len(full_data)}\")\n",
    "\n",
    "random.seed(42)\n",
    "random.shuffle(full_data)\n",
    "\n",
    "split_ratio = 0.9\n",
    "split_idx   = int(len(full_data) * split_ratio)\n",
    "train_data  = full_data[:split_idx]\n",
    "test_data   = full_data[split_idx:]\n",
    "\n",
    "os.makedirs(\"../data_utterances\", exist_ok=True)\n",
    "with open(\"../data_utterances/train.json\", \"w\") as f:\n",
    "    json.dump(train_data, f, indent=2)\n",
    "\n",
    "with open(\"../data_utterances/test.json\", \"w\") as f:\n",
    "    json.dump(test_data, f, indent=2)\n",
    "\n",
    "print(f\"Split: {len(train_data)} train / {len(test_data)} test.\")"
   ]
  },
  {
   "cell_type": "code",
   "execution_count": 711,
   "id": "8ef01398-96f9-4f3a-be8d-8fed8fdda531",
   "metadata": {},
   "outputs": [],
   "source": [
    "with open(\"../data_utterances/train.json\") as f:\n",
    "    train_data = json.load(f)\n",
    "\n",
    "with open(\"../data_utterances/test.json\") as f:\n",
    "    test_data = json.load(f)"
   ]
  },
  {
   "cell_type": "code",
   "execution_count": 712,
   "id": "1807ee55-d2c6-4c6f-a85c-93cb63d737d5",
   "metadata": {},
   "outputs": [
    {
     "name": "stdout",
     "output_type": "stream",
     "text": [
      "Vocab size: 526\n",
      "Labels: ['B-ALTITUDE', 'B-APPROACH', 'B-CALLSIGN', 'B-CLEARANCE', 'B-CONDITION', 'B-FACILITY', 'B-FREQUENCY', 'B-HEADING', 'B-INSTRUCTION', 'B-REQUEST', 'B-ROUTE', 'B-RUNWAY', 'B-SPEED', 'B-SQUAWK', 'B-STATUS', 'B-TAXIWAY', 'B-TEMPORAL_MODIFIER', 'B-TRAFFIC', 'B-TRIGGER', 'B-WAYPOINT', 'B-WIND', 'I-ALTITUDE', 'I-APPROACH', 'I-CALLSIGN', 'I-CLEARANCE', 'I-CONDITION', 'I-FACILITY', 'I-FREQUENCY', 'I-HEADING', 'I-INSTRUCTION', 'I-REQUEST', 'I-ROUTE', 'I-RUNWAY', 'I-SPEED', 'I-SQUAWK', 'I-STATUS', 'I-TAXIWAY', 'I-TRAFFIC', 'I-TRIGGER', 'I-WAYPOINT', 'I-WIND', 'O']\n",
      "Number of labels: 42\n"
     ]
    }
   ],
   "source": [
    "# Build vocab and labels \n",
    "labels = set()\n",
    "intents = set()\n",
    "\n",
    "for message in train_data:\n",
    "    labels.update(message[\"labels\"])\n",
    "\n",
    "label2id = {label: idx for idx, label in enumerate(sorted(labels))}\n",
    "\n",
    "# Build vocabulary\n",
    "vocab = {\"<PAD>\": 0, \"<UNK>\": 1}\n",
    "for example in train_data:\n",
    "    for token in example[\"tokens\"]:\n",
    "        token = token.lower()\n",
    "        if token not in vocab:\n",
    "            vocab[token] = len(vocab)\n",
    "\n",
    "print(f\"Vocab size: {len(vocab)}\")\n",
    "print(f\"Labels: {sorted(label2id.keys())}\")\n",
    "print(f\"Number of labels: {len(labels)}\")\n"
   ]
  },
  {
   "cell_type": "code",
   "execution_count": 713,
   "id": "9560fad4-591f-4cc6-be8f-96fabd40d12c",
   "metadata": {},
   "outputs": [],
   "source": [
    "class ATCDataset(Dataset):\n",
    "    def __init__(self, data, vocab, label2id, max_len=50):\n",
    "        self.data = data\n",
    "        self.vocab = vocab\n",
    "        self.label2id = label2id\n",
    "        self.max_len = max_len\n",
    "\n",
    "    def __len__(self):\n",
    "        return len(self.data)\n",
    "\n",
    "    def __getitem__(self, idx):\n",
    "        item = self.data[idx]\n",
    "        tokens = item[\"tokens\"]\n",
    "        labels = item[\"labels\"]\n",
    "\n",
    "        input_ids = [self.vocab.get(token.lower(), self.vocab[\"<UNK>\"]) for token in tokens]\n",
    "        label_ids = [self.label2id[label] for label in labels]\n",
    "\n",
    "        pad_len = self.max_len - len(input_ids)\n",
    "        if pad_len > 0:\n",
    "            input_ids += [self.vocab[\"<PAD>\"]] * pad_len\n",
    "            label_ids += [self.label2id[\"O\"]] * pad_len\n",
    "        else:\n",
    "            input_ids = input_ids[:self.max_len]\n",
    "            label_ids = label_ids[:self.max_len]\n",
    "\n",
    "        return {\n",
    "            \"input_ids\": torch.tensor(input_ids, dtype=torch.long),\n",
    "            \"labels\": torch.tensor(label_ids, dtype=torch.long),\n",
    "            \"length\": torch.tensor(min(len(tokens), self.max_len), dtype=torch.long)\n",
    "        }"
   ]
  },
  {
   "cell_type": "code",
   "execution_count": 714,
   "id": "6a10c17f-f6a7-4a32-b706-d03113943bc1",
   "metadata": {},
   "outputs": [
    {
     "name": "stdout",
     "output_type": "stream",
     "text": [
      "Sample from dataset:\n",
      "{'input_ids': tensor([ 2,  3,  4,  5,  6,  7,  4,  8,  9, 10, 11, 12,  4,  4,  5, 13, 14,  4,\n",
      "        15,  0,  0,  0,  0,  0,  0,  0,  0,  0,  0,  0,  0,  0,  0,  0,  0,  0,\n",
      "         0,  0,  0,  0,  0,  0,  0,  0,  0,  0,  0,  0,  0,  0]), 'labels': tensor([41,  2, 23, 23, 23, 11, 32, 32,  3, 24, 24, 20, 40, 40, 40, 40, 40, 40,\n",
      "        40, 41, 41, 41, 41, 41, 41, 41, 41, 41, 41, 41, 41, 41, 41, 41, 41, 41,\n",
      "        41, 41, 41, 41, 41, 41, 41, 41, 41, 41, 41, 41, 41, 41]), 'length': tensor(19)}\n"
     ]
    }
   ],
   "source": [
    "dataset = ATCDataset(train_data, vocab, label2id)\n",
    "print(\"Sample from dataset:\")\n",
    "sample = dataset[0]\n",
    "print(sample)"
   ]
  },
  {
   "cell_type": "code",
   "execution_count": 715,
   "id": "8aff38ef-dd47-4b25-a539-fe974da4af6b",
   "metadata": {},
   "outputs": [
    {
     "name": "stdout",
     "output_type": "stream",
     "text": [
      "['uwb-atcc_twr-7sxor3_000114_000686_at:', 'donavia', 'three', 'zero', 'five', 'runway', 'three', 'one', 'clear', 'to', 'land', 'wind', 'three', 'three', 'zero', 'degrees', 'and', 'three', 'knots']\n"
     ]
    }
   ],
   "source": [
    "# This is just a test, taking the sample from above and reversing the token to produce words\n",
    "id2word = {idx: word for word, idx in vocab.items()}\n",
    "tokens = [id2word[i.item()] for i in sample['input_ids'] if i.item() != vocab[\"<PAD>\"]]\n",
    "print(tokens)"
   ]
  },
  {
   "cell_type": "code",
   "execution_count": 716,
   "id": "3fcaf357-3d38-41ac-a9ff-7fee62ecfbf7",
   "metadata": {},
   "outputs": [
    {
     "name": "stdout",
     "output_type": "stream",
     "text": [
      "['O', 'B-CALLSIGN', 'I-CALLSIGN', 'I-CALLSIGN', 'I-CALLSIGN', 'B-RUNWAY', 'I-RUNWAY', 'I-RUNWAY', 'B-CLEARANCE', 'I-CLEARANCE', 'I-CLEARANCE', 'B-WIND', 'I-WIND', 'I-WIND', 'I-WIND', 'I-WIND', 'I-WIND', 'I-WIND', 'I-WIND']\n"
     ]
    }
   ],
   "source": [
    "# ... same for labels\n",
    "id2label = {idx: label for label, idx in label2id.items()}\n",
    "slot_labels = [id2label[i.item()] for i in sample['labels'][:sample['length']]]\n",
    "print(slot_labels)"
   ]
  },
  {
   "cell_type": "code",
   "execution_count": 717,
   "id": "e6b87f67-4b00-41e5-bf74-8997889436cc",
   "metadata": {},
   "outputs": [],
   "source": [
    "class LSTM(nn.Module):\n",
    "    def __init__(self, vocab_size, embed_dim, hidden_dim, num_labels, pad_idx):\n",
    "        super(LSTM, self).__init__()\n",
    "        \n",
    "        self.embedding = nn.Embedding(vocab_size, embed_dim, padding_idx=pad_idx)\n",
    "\n",
    "        self.lstm = nn.LSTM(\n",
    "            input_size=embed_dim,\n",
    "            hidden_size=hidden_dim,\n",
    "            batch_first=True,\n",
    "            bidirectional=True\n",
    "        )\n",
    "        self.slot_classifier = nn.Linear(hidden_dim * 2, num_labels)\n",
    "        \n",
    "    def forward(self, input_ids, lengths):\n",
    "        embedded = self.embedding(input_ids)\n",
    "\n",
    "        packed_input = pack_padded_sequence(embedded, lengths, batch_first=True, enforce_sorted=False)\n",
    "        packed_output, (hn, cn) = self.lstm(packed_input)\n",
    "        lstm_out, _ = pad_packed_sequence(packed_output, batch_first=True)\n",
    "\n",
    "        slot_logits = self.slot_classifier(lstm_out)\n",
    "        \n",
    "        forward_final = hn[0]\n",
    "        backward_final = hn[1]\n",
    "\n",
    "        final_hidden = torch.cat([forward_final, backward_final], dim=-1)\n",
    "\n",
    "        return slot_logits"
   ]
  },
  {
   "cell_type": "code",
   "execution_count": 718,
   "id": "290e369d-a742-4409-aa70-69283908a307",
   "metadata": {},
   "outputs": [],
   "source": [
    "from torch.utils.data import DataLoader\n",
    "\n",
    "train_dataset = ATCDataset(\n",
    "    data=train_data,\n",
    "    vocab=vocab,\n",
    "    label2id=label2id,\n",
    "    max_len=50\n",
    ")\n",
    "\n",
    "train_loader = DataLoader(\n",
    "    train_dataset,\n",
    "    batch_size=16,\n",
    "    shuffle=True\n",
    ")\n",
    "\n",
    "test_dataset = ATCDataset(\n",
    "    data=test_data,\n",
    "    vocab=vocab,\n",
    "    label2id=label2id,\n",
    "    max_len=50\n",
    ")\n",
    "\n",
    "test_loader = DataLoader(\n",
    "    test_dataset,\n",
    "    batch_size=16,\n",
    "    shuffle=False\n",
    ")"
   ]
  },
  {
   "cell_type": "code",
   "execution_count": 719,
   "id": "1e29226a-490a-4762-ab43-3b9ff9551b38",
   "metadata": {},
   "outputs": [],
   "source": [
    "pad_label_id = label2id[\"O\"]\n",
    "\n",
    "# Loss functions\n",
    "slot_loss_fn = nn.CrossEntropyLoss(ignore_index=pad_label_id)\n",
    "\n",
    "def train(model, dataloader, num_epochs, learning_rate, device):\n",
    "    model = model.to(device)\n",
    "    optimizer = optim.Adam(model.parameters(), lr=learning_rate)\n",
    "    epoch_losses = []\n",
    "\n",
    "    for epoch in range(num_epochs):\n",
    "        model.train()\n",
    "        total_loss = 0\n",
    "\n",
    "        for batch in dataloader:\n",
    "            input_ids = batch[\"input_ids\"].to(device)\n",
    "            labels = batch[\"labels\"].to(device)\n",
    "            lengths = batch[\"length\"].cpu()\n",
    "\n",
    "            optimizer.zero_grad()\n",
    "            slot_logits = model(input_ids, lengths)\n",
    "\n",
    "            max_len = slot_logits.size(1)\n",
    "            labels = labels[:, :max_len]\n",
    "\n",
    "            slot_logits_flat = slot_logits.reshape(-1, slot_logits.size(-1))\n",
    "            labels_flat = labels.reshape(-1)\n",
    "\n",
    "            slot_loss = slot_loss_fn(slot_logits_flat, labels_flat)\n",
    "            loss = slot_loss\n",
    "            loss.backward()\n",
    "            optimizer.step()\n",
    "\n",
    "            total_loss += loss.item()\n",
    "\n",
    "        avg_loss = total_loss / len(dataloader)\n",
    "        epoch_losses.append(avg_loss)\n",
    "        print(f\"Epoch {epoch+1}/{num_epochs}, Loss: {avg_loss:.4f}\")\n",
    "\n",
    "    return epoch_losses"
   ]
  },
  {
   "cell_type": "code",
   "execution_count": 736,
   "id": "397c66ed-e371-4333-a255-ea68375bfeb6",
   "metadata": {},
   "outputs": [
    {
     "name": "stdout",
     "output_type": "stream",
     "text": [
      "Parameters: 298,914\n",
      "Training on cuda\n",
      "Epoch 1/12, Loss: 2.3232\n",
      "Epoch 2/12, Loss: 0.9468\n",
      "Epoch 3/12, Loss: 0.4803\n",
      "Epoch 4/12, Loss: 0.2337\n",
      "Epoch 5/12, Loss: 0.1382\n",
      "Epoch 6/12, Loss: 0.0842\n",
      "Epoch 7/12, Loss: 0.0590\n",
      "Epoch 8/12, Loss: 0.0404\n",
      "Epoch 9/12, Loss: 0.0467\n",
      "Epoch 10/12, Loss: 0.0256\n",
      "Epoch 11/12, Loss: 0.0235\n",
      "Epoch 12/12, Loss: 0.0165\n"
     ]
    }
   ],
   "source": [
    "model = LSTM(\n",
    "    vocab_size=len(vocab),\n",
    "    embed_dim=100,\n",
    "    hidden_dim=128,\n",
    "    num_labels=len(label2id),\n",
    "    pad_idx=vocab[\"<PAD>\"]\n",
    ")\n",
    "\n",
    "params = sum(p.numel() for p in model.parameters())\n",
    "print(f\"Parameters: {params:,}\")\n",
    "\n",
    "device = torch.device(\"cuda\" if torch.cuda.is_available() else \"cpu\")\n",
    "print(f\"Training on {device}\")\n",
    "losses = train(model, train_loader, num_epochs=12, learning_rate=0.005, device=device)"
   ]
  },
  {
   "cell_type": "code",
   "execution_count": 737,
   "id": "ee41439d-8d68-48b6-8f15-8ee3755c5952",
   "metadata": {},
   "outputs": [
    {
     "data": {
      "image/png": "[encoded data removed]",
      "text/plain": [
       "<Figure size 640x480 with 1 Axes>"
      ]
     },
     "metadata": {},
     "output_type": "display_data"
    }
   ],
   "source": [
    "import matplotlib.pyplot as plt\n",
    "\n",
    "plt.plot(range(1, len(losses)+1), losses, marker='o')\n",
    "plt.title(\"Training Loss\")\n",
    "plt.xlabel(\"Epoch\")\n",
    "plt.ylabel(\"Loss\")\n",
    "plt.grid(True)\n",
    "plt.show()"
   ]
  },
  {
   "cell_type": "code",
   "execution_count": 738,
   "id": "f55cf942-b81b-4733-9a11-0adc52838e41",
   "metadata": {},
   "outputs": [],
   "source": [
    "from sklearn.metrics import classification_report\n",
    "\n",
    "def evaluate(model, dataloader, label2id, device=\"cpu\"):\n",
    "    model.eval()\n",
    "    all_true_slots = []\n",
    "    all_pred_slots = []\n",
    "\n",
    "    with torch.no_grad():\n",
    "        for batch in dataloader:\n",
    "            input_ids = batch[\"input_ids\"].to(device)\n",
    "            labels = batch[\"labels\"].to(device)\n",
    "            lengths = batch[\"length\"].cpu()\n",
    "\n",
    "            slot_logits = model(input_ids, lengths)\n",
    "\n",
    "            slot_preds = slot_logits.argmax(dim=-1)\n",
    "\n",
    "            for i in range(len(lengths)):\n",
    "                true_len = lengths[i].item()\n",
    "                all_true_slots.extend(labels[i][:true_len].cpu().tolist())\n",
    "                all_pred_slots.extend(slot_preds[i][:true_len].cpu().tolist())\n",
    "\n",
    "    print(\"Slot Report:\")\n",
    "    print(classification_report(\n",
    "        all_true_slots,\n",
    "        all_pred_slots,\n",
    "        labels=list(label2id.values()),\n",
    "        target_names=list(label2id.keys()),\n",
    "        zero_division=0\n",
    "    ))"
   ]
  },
  {
   "cell_type": "code",
   "execution_count": 739,
   "id": "adebbd9a-a2c7-4736-a0b9-bc7bfab5e91c",
   "metadata": {},
   "outputs": [
    {
     "name": "stdout",
     "output_type": "stream",
     "text": [
      "Slot Report:\n",
      "                     precision    recall  f1-score   support\n",
      "\n",
      "         B-ALTITUDE       0.78      0.88      0.82         8\n",
      "         B-APPROACH       0.50      1.00      0.67         2\n",
      "         B-CALLSIGN       0.71      0.85      0.77        34\n",
      "        B-CLEARANCE       0.89      1.00      0.94         8\n",
      "        B-CONDITION       0.75      0.60      0.67         5\n",
      "         B-FACILITY       0.60      1.00      0.75         6\n",
      "        B-FREQUENCY       1.00      1.00      1.00         3\n",
      "          B-HEADING       0.83      1.00      0.91         5\n",
      "      B-INSTRUCTION       0.81      0.93      0.86        27\n",
      "          B-REQUEST       1.00      1.00      1.00         1\n",
      "            B-ROUTE       1.00      1.00      1.00         1\n",
      "           B-RUNWAY       1.00      0.67      0.80         9\n",
      "            B-SPEED       0.50      0.33      0.40         3\n",
      "           B-SQUAWK       0.00      0.00      0.00         0\n",
      "           B-STATUS       0.00      0.00      0.00         0\n",
      "          B-TAXIWAY       1.00      1.00      1.00         2\n",
      "B-TEMPORAL_MODIFIER       1.00      1.00      1.00         3\n",
      "          B-TRAFFIC       1.00      1.00      1.00         1\n",
      "          B-TRIGGER       1.00      1.00      1.00         3\n",
      "         B-WAYPOINT       0.75      0.86      0.80         7\n",
      "             B-WIND       1.00      1.00      1.00         3\n",
      "         I-ALTITUDE       0.96      1.00      0.98        26\n",
      "         I-APPROACH       0.60      1.00      0.75         3\n",
      "         I-CALLSIGN       0.82      0.94      0.87       100\n",
      "        I-CLEARANCE       0.88      1.00      0.93        14\n",
      "        I-CONDITION       0.75      0.43      0.55         7\n",
      "         I-FACILITY       1.00      1.00      1.00         3\n",
      "        I-FREQUENCY       0.72      1.00      0.84        13\n",
      "          I-HEADING       0.94      1.00      0.97        15\n",
      "      I-INSTRUCTION       0.66      0.86      0.75        22\n",
      "          I-REQUEST       0.00      0.00      0.00         2\n",
      "            I-ROUTE       1.00      1.00      1.00         3\n",
      "           I-RUNWAY       0.93      0.87      0.90        15\n",
      "            I-SPEED       1.00      0.67      0.80         9\n",
      "           I-SQUAWK       0.00      0.00      0.00         0\n",
      "           I-STATUS       0.00      0.00      0.00         0\n",
      "          I-TAXIWAY       0.00      0.00      0.00         0\n",
      "          I-TRAFFIC       1.00      1.00      1.00         3\n",
      "          I-TRIGGER       1.00      1.00      1.00         3\n",
      "         I-WAYPOINT       0.00      0.00      0.00         0\n",
      "             I-WIND       0.94      0.94      0.94        18\n",
      "                  O       0.00      0.00      0.00        43\n",
      "\n",
      "           accuracy                           0.81       430\n",
      "          macro avg       0.70      0.73      0.71       430\n",
      "       weighted avg       0.74      0.81      0.77       430\n",
      "\n"
     ]
    }
   ],
   "source": [
    "evaluate(model, test_loader, label2id, device=device)"
   ]
  },
  {
   "cell_type": "code",
   "execution_count": 740,
   "id": "26b38e07-099a-42c4-a84b-af0ac7a7f49d",
   "metadata": {},
   "outputs": [],
   "source": [
    "import torch.nn.functional as Func\n",
    "\n",
    "def predict(model, sentence, vocab, label2id, max_len=50, device=\"cpu\"):\n",
    "    model.eval()\n",
    "    id2label = {v: k for k, v in label2id.items()}\n",
    "\n",
    "    tokens = sentence.lower().split()\n",
    "    input_ids = [vocab.get(token, vocab[\"<UNK>\"]) for token in tokens]\n",
    "\n",
    "    if len(input_ids) < max_len:\n",
    "        input_ids += [vocab[\"<PAD>\"]] * (max_len - len(input_ids))\n",
    "    else:\n",
    "        input_ids = input_ids[:max_len]\n",
    "\n",
    "    input_tensor = torch.tensor([input_ids], dtype=torch.long).to(device)\n",
    "    lengths = torch.tensor([min(len(tokens), max_len)], dtype=torch.long).to('cpu')\n",
    "\n",
    "    with torch.no_grad():\n",
    "        slot_logits = model(input_tensor, lengths)\n",
    "        slot_probs = Func.softmax(slot_logits, dim=-1)\n",
    "        slot_preds = slot_probs.argmax(dim=-1).squeeze(0).tolist()\n",
    "        slot_confidences = slot_probs.squeeze(0).max(dim=-1).values.tolist()\n",
    "\n",
    "    print(\"Input:\", sentence)\n",
    "    for token, label_id, conf in zip(tokens, slot_preds[:len(tokens)], slot_confidences[:len(tokens)]):\n",
    "        label = id2label[label_id]\n",
    "        print(f\"  {token:10} → {label:15} ({conf * 100:.1f}%)\")"
   ]
  },
  {
   "cell_type": "code",
   "execution_count": 741,
   "id": "23397502-a487-401a-9150-40b76cdf61f6",
   "metadata": {},
   "outputs": [
    {
     "name": "stdout",
     "output_type": "stream",
     "text": [
      "Input: skywest four five two cleared to land runway three two right\n",
      "  skywest    → I-CALLSIGN      (69.9%)\n",
      "  four       → I-CALLSIGN      (98.4%)\n",
      "  five       → I-CALLSIGN      (99.6%)\n",
      "  two        → I-CALLSIGN      (99.5%)\n",
      "  cleared    → B-CLEARANCE     (99.9%)\n",
      "  to         → I-CLEARANCE     (99.8%)\n",
      "  land       → I-CLEARANCE     (99.9%)\n",
      "  runway     → B-RUNWAY        (99.9%)\n",
      "  three      → I-RUNWAY        (99.6%)\n",
      "  two        → I-RUNWAY        (99.9%)\n",
      "  right      → I-RUNWAY        (99.7%)\n"
     ]
    }
   ],
   "source": [
    "predict(\n",
    "    model,\n",
    "    sentence=\"skywest four five two cleared to land runway three two right\",\n",
    "    vocab=vocab,\n",
    "    label2id=label2id,\n",
    "    device=device\n",
    ")"
   ]
  },
  {
   "cell_type": "code",
   "execution_count": 742,
   "id": "f178aeb7-a948-4823-8393-c56f94832710",
   "metadata": {},
   "outputs": [
    {
     "name": "stdout",
     "output_type": "stream",
     "text": [
      "Input: sky four two three turn right heading three zero zero\n",
      "  sky        → B-CALLSIGN      (86.5%)\n",
      "  four       → I-CALLSIGN      (98.4%)\n",
      "  two        → I-CALLSIGN      (98.8%)\n",
      "  three      → I-CALLSIGN      (92.6%)\n",
      "  turn       → B-INSTRUCTION   (99.6%)\n",
      "  right      → I-INSTRUCTION   (99.9%)\n",
      "  heading    → B-HEADING       (99.7%)\n",
      "  three      → I-HEADING       (94.0%)\n",
      "  zero       → I-HEADING       (99.9%)\n",
      "  zero       → I-HEADING       (99.9%)\n"
     ]
    }
   ],
   "source": [
    "predict(\n",
    "    model,\n",
    "    sentence=\"sky four two three turn right heading three zero zero\",\n",
    "    vocab=vocab,\n",
    "    label2id=label2id,\n",
    "    device=device\n",
    ")"
   ]
  },
  {
   "cell_type": "code",
   "execution_count": 743,
   "id": "640b9fbb-ab23-4a26-8157-fbea1fc8d235",
   "metadata": {},
   "outputs": [
    {
     "name": "stdout",
     "output_type": "stream",
     "text": [
      "Input: delta one two three cleared direct chino then maintain five thousand\n",
      "  delta      → B-CALLSIGN      (99.9%)\n",
      "  one        → I-CALLSIGN      (99.9%)\n",
      "  two        → I-CALLSIGN      (100.0%)\n",
      "  three      → I-CALLSIGN      (100.0%)\n",
      "  cleared    → B-CLEARANCE     (93.8%)\n",
      "  direct     → B-INSTRUCTION   (71.2%)\n",
      "  chino      → B-WAYPOINT      (94.8%)\n",
      "  then       → B-TEMPORAL_MODIFIER (99.1%)\n",
      "  maintain   → I-INSTRUCTION   (69.9%)\n",
      "  five       → I-TRAFFIC       (44.5%)\n",
      "  thousand   → I-CALLSIGN      (35.9%)\n"
     ]
    }
   ],
   "source": [
    "predict(\n",
    "    model,\n",
    "    sentence=\"delta one two three cleared direct chino then maintain five thousand\",\n",
    "    vocab=vocab,\n",
    "    label2id=label2id,\n",
    "    device=device\n",
    ")"
   ]
  },
  {
   "cell_type": "code",
   "execution_count": 744,
   "id": "ffc5669a-eb6c-4b79-acc9-9c1324146e30",
   "metadata": {},
   "outputs": [
    {
     "name": "stdout",
     "output_type": "stream",
     "text": [
      "Input: southwest five five two runway three two right clear for takeoff winds zero five zero at nine\n",
      "  southwest  → B-CALLSIGN      (99.8%)\n",
      "  five       → I-CALLSIGN      (99.9%)\n",
      "  five       → I-CALLSIGN      (100.0%)\n",
      "  two        → I-CALLSIGN      (100.0%)\n",
      "  runway     → B-RUNWAY        (99.2%)\n",
      "  three      → I-RUNWAY        (99.6%)\n",
      "  two        → I-RUNWAY        (99.9%)\n",
      "  right      → I-RUNWAY        (99.2%)\n",
      "  clear      → B-CLEARANCE     (99.6%)\n",
      "  for        → I-CLEARANCE     (98.8%)\n",
      "  takeoff    → I-CLEARANCE     (96.1%)\n",
      "  winds      → B-WIND          (94.4%)\n",
      "  zero       → I-WIND          (95.5%)\n",
      "  five       → I-WIND          (93.2%)\n",
      "  zero       → I-WIND          (90.9%)\n",
      "  at         → I-WIND          (86.2%)\n",
      "  nine       → I-WIND          (58.2%)\n"
     ]
    }
   ],
   "source": [
    "predict(\n",
    "    model,\n",
    "    sentence=\"southwest five five two runway three two right clear for takeoff winds zero five zero at nine\",\n",
    "    vocab=vocab,\n",
    "    label2id=label2id,\n",
    "    device=device\n",
    ")"
   ]
  },
  {
   "cell_type": "code",
   "execution_count": 745,
   "id": "289309f1-8730-4387-805b-08e661cffb92",
   "metadata": {},
   "outputs": [
    {
     "name": "stdout",
     "output_type": "stream",
     "text": [
      "Input: five thousand for delta one two one\n",
      "  five       → B-ALTITUDE      (44.5%)\n",
      "  thousand   → I-ALTITUDE      (85.1%)\n",
      "  for        → B-STATUS        (90.4%)\n",
      "  delta      → B-CALLSIGN      (99.6%)\n",
      "  one        → I-CALLSIGN      (98.2%)\n",
      "  two        → I-CALLSIGN      (100.0%)\n",
      "  one        → I-CALLSIGN      (99.9%)\n"
     ]
    }
   ],
   "source": [
    "predict(\n",
    "    model,\n",
    "    sentence=\"five thousand for delta one two one\",\n",
    "    vocab=vocab,\n",
    "    label2id=label2id,\n",
    "    device=device\n",
    ")"
   ]
  },
  {
   "cell_type": "code",
   "execution_count": 746,
   "id": "32fa4afd-430f-4300-9b12-9971acb19176",
   "metadata": {},
   "outputs": [
    {
     "name": "stdout",
     "output_type": "stream",
     "text": [
      "Weights saved to ../app/models/utterance_lstm/slot_lstm.pt\n"
     ]
    }
   ],
   "source": [
    "from pathlib import Path\n",
    "\n",
    "# Save weights to .pt file\n",
    "SAVE_DIR = \"../app/models/utterance_lstm\"\n",
    "Path(SAVE_DIR).mkdir(parents=True, exist_ok=True)\n",
    "SAVE_PATH = f\"{SAVE_DIR}/slot_lstm.pt\"\n",
    "\n",
    "hidden_size   = model.lstm.hidden_size\n",
    "num_labels  = len(labels)\n",
    "\n",
    "checkpoint = {\n",
    "    \"state_dict\": model.state_dict(),\n",
    "    \"config\": {\n",
    "        \"vocab_size\"   : model.embedding.num_embeddings,\n",
    "        \"embedding_dim\": model.embedding.embedding_dim,\n",
    "        \"hidden_size\"  : hidden_size,\n",
    "        \"num_labels\"   : num_labels,\n",
    "        \"label_list\"   : labels\n",
    "    }\n",
    "}\n",
    "torch.save(checkpoint, SAVE_PATH)\n",
    "print(f\"Weights saved to {SAVE_PATH}\")"
   ]
  },
  {
   "cell_type": "code",
   "execution_count": 747,
   "id": "f960b33f-6d51-4736-9c5f-fabbd770204c",
   "metadata": {},
   "outputs": [
    {
     "name": "stdout",
     "output_type": "stream",
     "text": [
      "saved!\n"
     ]
    }
   ],
   "source": [
    "id2label = {v: k for k, v in label2id.items()}\n",
    "\n",
    "# Save vocab\n",
    "with open(\"../app/models/utterance_lstm/vocab.json\", \"w\") as f:\n",
    "    json.dump(vocab, f)\n",
    "with open(\"../app/models/utterance_lstm/label2id.json\", \"w\") as f:\n",
    "    json.dump(label2id, f)\n",
    "with open(\"../app/models/utterance_lstm/id2label.json\", \"w\") as f:\n",
    "    json.dump(id2label, f)\n",
    "\n",
    "print(\"saved!\")"
   ]
  },
  {
   "cell_type": "code",
   "execution_count": null,
   "id": "cd9ba022-a2ee-41a1-98fc-e1a50d32ddaa",
   "metadata": {},
   "outputs": [],
   "source": []
  }
 ],
 "metadata": {
  "kernelspec": {
   "display_name": "Python 3 (ipykernel)",
   "language": "python",
   "name": "python3"
  },
  "language_info": {
   "codemirror_mode": {
    "name": "ipython",
    "version": 3
   },
   "file_extension": ".py",
   "mimetype": "text/x-python",
   "name": "python",
   "nbconvert_exporter": "python",
   "pygments_lexer": "ipython3",
   "version": "3.12.9"
  }
 },
 "nbformat": 4,
 "nbformat_minor": 5
}
